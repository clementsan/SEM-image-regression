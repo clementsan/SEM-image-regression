{
 "cells": [
  {
   "cell_type": "markdown",
   "metadata": {},
   "source": [
    "## Regression - ResNet50 with K-fold"
   ]
  },
  {
   "cell_type": "code",
   "execution_count": null,
   "metadata": {},
   "outputs": [],
   "source": [
    "# Put these at the top of every notebook, to get automatic reloading and inline plotting\n",
    "%reload_ext autoreload\n",
    "%autoreload 2\n",
    "%matplotlib inline"
   ]
  },
  {
   "cell_type": "code",
   "execution_count": null,
   "metadata": {},
   "outputs": [],
   "source": [
    "# setup CUDA_VISIBLE DEVICES for titan.sci.utah.edu\n",
    "#import os\n",
    "#os.environ[\"CUDA_VISIBLE_DEVICES\"] = \"1\"\n"
   ]
  },
  {
   "cell_type": "code",
   "execution_count": null,
   "metadata": {},
   "outputs": [],
   "source": [
    "# This file contains all the main external libs we'll use\n",
    "from fastai.imports import *\n",
    "\n",
    "from fastai.transforms import *\n",
    "from fastai.conv_learner import *\n",
    "from fastai.model import *\n",
    "from fastai.dataset import *\n",
    "from fastai.sgdr import *\n",
    "from fastai.plots import *\n",
    "\n",
    "import pandas as pd\n",
    "import numpy as np\n",
    "\n",
    "from sklearn.model_selection import KFold\n",
    "\n",
    "from sklearn.metrics import *\n",
    "import math\n"
   ]
  },
  {
   "cell_type": "code",
   "execution_count": null,
   "metadata": {},
   "outputs": [],
   "source": [
    "PATH = \"../data/\"\n",
    "sz=224\n",
    "arch=resnet50\n",
    "bs=8"
   ]
  },
  {
   "cell_type": "code",
   "execution_count": null,
   "metadata": {},
   "outputs": [],
   "source": [
    "label_csv = f'{PATH}Dataset.csv'\n",
    "n = len(list(open(label_csv)))-1\n",
    "# Return validation indexes using a 10% split\n",
    "val_idxs = get_cv_idxs(n,val_pct=0.1)\n",
    "print('n:',n)\n",
    "print('Nb val_idxs',len(val_idxs))\n",
    "print('val_idxs',val_idxs)"
   ]
  },
  {
   "cell_type": "code",
   "execution_count": null,
   "metadata": {},
   "outputs": [],
   "source": [
    "label_df = pd.read_csv(label_csv)\n",
    "label_df.head()"
   ]
  },
  {
   "cell_type": "code",
   "execution_count": null,
   "metadata": {},
   "outputs": [],
   "source": [
    "tfms = tfms_from_model(arch, sz, aug_tfms=transforms_side_on)\n",
    "data = ImageClassifierData.from_csv(PATH, 'data_all', label_csv, tfms=tfms, continuous = True, bs=bs, val_idxs=val_idxs, num_workers=8)\n",
    "\n",
    "# Add simple dense model (instead of default fastai model)\n",
    "#head_reg = nn.Sequential(Flatten(), nn.Linear(100352,1))\n",
    "learn = ConvLearner.pretrained(arch, data, xtra_fc=[], ps=0.25, precompute=False)\n",
    "# Add dropout\n",
    "#learn = ConvLearner.pretrained(arch, data, precompute=True, ps=0.5)"
   ]
  },
  {
   "cell_type": "code",
   "execution_count": null,
   "metadata": {},
   "outputs": [],
   "source": [
    "learn"
   ]
  },
  {
   "cell_type": "code",
   "execution_count": null,
   "metadata": {},
   "outputs": [],
   "source": [
    "lrf=learn.lr_find()"
   ]
  },
  {
   "cell_type": "code",
   "execution_count": null,
   "metadata": {},
   "outputs": [],
   "source": [
    "learn.sched.plot_lr()"
   ]
  },
  {
   "cell_type": "code",
   "execution_count": null,
   "metadata": {},
   "outputs": [],
   "source": [
    "learn.sched.plot()"
   ]
  },
  {
   "cell_type": "code",
   "execution_count": null,
   "metadata": {},
   "outputs": [],
   "source": [
    "lr = 1e-1\n",
    "\n",
    "List_MAE = []\n",
    "List_RMSE = []\n",
    "List_R2 = []\n",
    "KFold_Iteration = 0\n",
    "\n",
    "# K-fold cross validation\n",
    "kf = KFold(n_splits=5, shuffle=True, random_state = 1)\n",
    "\n",
    "for train_index, val_index in kf.split(label_df.index):\n",
    "    print(\"\\n\\nKFold_Iteration\", KFold_Iteration)\n",
    "    print(\"\\nLength training\",len(train_index))\n",
    "    print(\"Length validation\",len(val_index))\n",
    "    \n",
    "    tfms = tfms_from_model(arch, sz, aug_tfms=transforms_side_on)\n",
    "    data = ImageClassifierData.from_csv(PATH, 'data_all', label_csv, tfms=tfms, continuous = True, bs=bs, val_idxs=val_index, num_workers=8)\n",
    "        \n",
    "    # Add simple dense model (instead of default fastai model)\n",
    "    #head_reg = nn.Sequential(Flatten(), nn.Linear(100352,1))\n",
    "    learn = ConvLearner.pretrained(arch, data, xtra_fc=[], ps=0.25, precompute=False)\n",
    "    \n",
    "    # Update optimizer and loss function\n",
    "    learn.opt_fn = optim.Adam\n",
    "    learn.crit = nn.L1Loss()\n",
    "    \n",
    "    print(\"Optimizing Last layer only...\")\n",
    "    lr = 1e-1\n",
    "    learn.fit(lr, 5)\n",
    "    #learn.precompute=False\n",
    "    learn.fit(lr, 5, cycle_len=1)\n",
    "    print(\"\\nOptimizing full model...\")\n",
    "    learn.unfreeze()\n",
    "    # New learning rate\n",
    "    lr = 5e-4\n",
    "    lrs=np.array([lr/9,lr/3,lr])\n",
    "    learn.fit(lrs, 5, cycle_len=1, cycle_mult=2)\n",
    "    \n",
    "    print(\"TTA inference...\")\n",
    "    preds, y = learn.TTA()\n",
    "    probs = np.mean(preds,0)\n",
    "\n",
    "    # Analysis\n",
    "    MAE = mean_absolute_error(y, probs)\n",
    "    RMSE = math.sqrt(mean_squared_error(y, probs))\n",
    "    print('MAE', MAE)\n",
    "    print('RMSE', RMSE)\n",
    "    List_MAE.append(MAE)\n",
    "    List_RMSE.append(RMSE)\n",
    "    \n",
    "    # R2 calculation\n",
    "    y_mean = np.mean(y, 0)\n",
    "    print('y_mean', y_mean)\n",
    "\n",
    "    SStot = np.sum((y-y_mean)**2)\n",
    "    SSres = np.sum((y-probs)**2)\n",
    "    R2 = 1 - (SSres/SStot)\n",
    "    print('SStot', SStot)\n",
    "    print('SSres', SSres)\n",
    "    print('R2', R2)\n",
    "    List_R2.append(R2)\n",
    "    \n",
    "    KFold_Iteration += 1\n"
   ]
  },
  {
   "cell_type": "code",
   "execution_count": null,
   "metadata": {},
   "outputs": [],
   "source": [
    "print(\"\\nResults overview\")\n",
    "MAE_avg = np.average(List_MAE)\n",
    "MAE_std = np.std(List_MAE)\n",
    "print(\"MAE_avg\",MAE_avg)\n",
    "print(\"MAE_std\",MAE_std)\n",
    "\n",
    "RMSE_avg = np.average(List_RMSE)\n",
    "RMSE_std = np.std(List_RMSE)\n",
    "print(\"RMSE_avg\",RMSE_avg)\n",
    "print(\"RMSE_std\",RMSE_std)\n",
    "\n",
    "R2_avg = np.average(List_R2)\n",
    "R2_std = np.std(List_R2)\n",
    "print(\"R2_avg\",R2_avg)\n",
    "print(\"R2_std\",R2_std)"
   ]
  },
  {
   "cell_type": "code",
   "execution_count": null,
   "metadata": {},
   "outputs": [],
   "source": [
    "learn"
   ]
  },
  {
   "cell_type": "code",
   "execution_count": null,
   "metadata": {},
   "outputs": [],
   "source": []
  },
  {
   "cell_type": "code",
   "execution_count": null,
   "metadata": {},
   "outputs": [],
   "source": []
  },
  {
   "cell_type": "code",
   "execution_count": null,
   "metadata": {},
   "outputs": [],
   "source": []
  }
 ],
 "metadata": {
  "kernelspec": {
   "display_name": "Python 3 (ipykernel)",
   "language": "python",
   "name": "python3"
  },
  "language_info": {
   "codemirror_mode": {
    "name": "ipython",
    "version": 3
   },
   "file_extension": ".py",
   "mimetype": "text/x-python",
   "name": "python",
   "nbconvert_exporter": "python",
   "pygments_lexer": "ipython3",
   "version": "3.10.13"
  },
  "toc": {
   "colors": {
    "hover_highlight": "#DAA520",
    "navigate_num": "#000000",
    "navigate_text": "#333333",
    "running_highlight": "#FF0000",
    "selected_highlight": "#FFD700",
    "sidebar_border": "#EEEEEE",
    "wrapper_background": "#FFFFFF"
   },
   "moveMenuLeft": true,
   "nav_menu": {
    "height": "266px",
    "width": "252px"
   },
   "navigate_menu": true,
   "number_sections": true,
   "sideBar": true,
   "threshold": 4,
   "toc_cell": false,
   "toc_section_display": "block",
   "toc_window_display": false,
   "widenNotebook": false
  }
 },
 "nbformat": 4,
 "nbformat_minor": 4
}
